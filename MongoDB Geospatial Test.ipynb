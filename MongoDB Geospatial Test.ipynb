{
 "cells": [
  {
   "cell_type": "markdown",
   "metadata": {},
   "source": [
    "# MongoDB Geospatial Query Operators"
   ]
  },
  {
   "cell_type": "code",
   "execution_count": 1,
   "metadata": {},
   "outputs": [],
   "source": [
    "from pymongo import MongoClient\n",
    "from pathlib import Path"
   ]
  },
  {
   "cell_type": "code",
   "execution_count": null,
   "metadata": {},
   "outputs": [],
   "source": [
    "MONGO_DB_CONNECTION_STRING = \"mongodb://localhost:27017/\"\n",
    "\n",
    "# Creates database called \"geo_example\"\n",
    "db = MongoClient(MONGO_DB_CONNECTION_STRING).geo_example"
   ]
  },
  {
   "cell_type": "code",
   "execution_count": null,
   "metadata": {},
   "outputs": [],
   "source": [
    "# Creates container called \"places\" with defined index\n",
    "db.places.create_index([\n",
    "    ('location', '2dsphere')])\n",
    "\n",
    "db.places.insert_one({\n",
    "    'Entity Name': 'Walmart',\n",
    "    'location': {\n",
    "        'type': 'Point',\n",
    "        'coordinates': [\n",
    "            -100.98817410082268,\n",
    "            10.72788705499784\n",
    "        ],\n",
    "    }\n",
    "})\n",
    "\n",
    "db.places.insert_one({\n",
    "    'Entity Name': 'Target',\n",
    "    'location': {\n",
    "        'type': 'Polygon',\n",
    "        'coordinates': [[[ 17.60083012593064, 78.18557739257812], \n",
    "                            [ 17.16834652544664, 78.19381713867188], \n",
    "                            [ 17.17490690610013, 78.739013671875], \n",
    "                            [ 17.613919673106714, 78.73489379882812],\n",
    "                            [ 17.60083012593064, 78.18557739257812]\n",
    "                          ]]\n",
    "    }\n",
    "})\n",
    "\n",
    "result = db.command(\n",
    "    'geoNear', 'places',\n",
    "    near={\n",
    "        'type': 'Point',\n",
    "        'coordinates': [\n",
    "            -73.991084,\n",
    "            40.735863]},\n",
    "    spherical=True,\n",
    "    num=10)\n",
    "\n",
    "print(\"geoNear results\")\n",
    "for x in result[\"results\"]:\n",
    "    print(x)\n",
    "\n",
    "\n",
    "db.places.drop() "
   ]
  },
  {
   "cell_type": "code",
   "execution_count": null,
   "metadata": {},
   "outputs": [],
   "source": [
    "db.places.create_index([\n",
    "    ('loc', '2dsphere')])\n",
    "\n",
    "poly1 = { \"type\" : \"Polygon\", \"coordinates\" : [[[0, 0], [3, 0], [0, 3], [0, 0]]] }\n",
    "poly2 = { \"type\" : \"Polygon\", \"coordinates\" : [[[1, 1], [2, 1], [1, 2], [1, 1]]] }\n",
    "\n",
    "# poly1 is a similar triangle inside poly2\n",
    "poly3 = { \"type\" : \"Polygon\", \"coordinates\" : [[[1, 0], [-2, 0], [1, 3], [1, 0]]] }\n",
    "\n",
    "# poly3 is poly1 flipped around its \"vertical\" edge, then bumped over one unit, so it intersects poly1 but is not contained in it\n",
    "db.places.insert_one({ \"_id\":1, \"loc\" : poly2 })\n",
    "db.places.insert_one({ \"_id\":2, \"loc\" : poly3 })\n",
    "\n",
    "result1 = db.places.find({ \"loc\" : {\n",
    "    \"$geoIntersects\" : {\n",
    "        \"$geometry\" : poly1\n",
    "    }\n",
    "} })\n",
    "\n",
    "print(\"geoIntersects results\")\n",
    "for x in result1:\n",
    "    print(x)\n",
    "\n",
    "\n",
    "result2 = db.places.find({ \"loc\" : {\n",
    "    \"$geoWithin\" : {\n",
    "        \"$geometry\" : poly1\n",
    "    }\n",
    "} })\n",
    "\n",
    "print(\"geoWithin results\")\n",
    "for x in result2:\n",
    "    print(x)\n",
    "\n",
    "db.places.drop() "
   ]
  }
 ],
 "metadata": {
  "kernelspec": {
   "display_name": "Python 3",
   "language": "python",
   "name": "python3"
  },
  "language_info": {
   "codemirror_mode": {
    "name": "ipython",
    "version": 3
   },
   "file_extension": ".py",
   "mimetype": "text/x-python",
   "name": "python",
   "nbconvert_exporter": "python",
   "pygments_lexer": "ipython3",
   "version": "3.7.4"
  }
 },
 "nbformat": 4,
 "nbformat_minor": 2
}
